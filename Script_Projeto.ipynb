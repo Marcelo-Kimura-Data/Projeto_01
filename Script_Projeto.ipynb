{
 "cells": [
  {
   "cell_type": "code",
   "execution_count": 39,
   "id": "e1f38df3-cfaf-4b87-8607-1c344a4ee6c7",
   "metadata": {},
   "outputs": [],
   "source": [
    "import pandas as pd\n",
    "import numpy as np\n",
    "import pathlib\n",
    "import win32com.client as win32"
   ]
  },
  {
   "cell_type": "markdown",
   "id": "3440a004-1eea-4956-bc35-5a96917c3a89",
   "metadata": {},
   "source": [
    "## Passo 01: Importação de dados e tranformação para o formato de DataFrame"
   ]
  },
  {
   "cell_type": "code",
   "execution_count": 3,
   "id": "c45aa4d4-c00f-40a3-97c5-8742c5ff1696",
   "metadata": {},
   "outputs": [],
   "source": [
    "df_email = pd.read_excel('C:/Users/Kimura/Desktop/Projetos/Projeto_01/Projeto_01/Bases_Dados/Emails.xlsx')\n",
    "df_lojas = pd.read_csv('C:/Users/Kimura/Desktop/Projetos/Projeto_01/Projeto_01/Bases_Dados/Lojas.csv', encoding='latin1', sep=';')\n",
    "df_vendas = pd.read_excel('C:/Users/Kimura/Desktop/Projetos/Projeto_01/Projeto_01/Bases_Dados/Vendas.xlsx')"
   ]
  },
  {
   "cell_type": "code",
   "execution_count": 4,
   "id": "7bd4bd76-c03d-4220-a617-73c8c93f9677",
   "metadata": {},
   "outputs": [
    {
     "data": {
      "text/html": [
       "<div>\n",
       "<style scoped>\n",
       "    .dataframe tbody tr th:only-of-type {\n",
       "        vertical-align: middle;\n",
       "    }\n",
       "\n",
       "    .dataframe tbody tr th {\n",
       "        vertical-align: top;\n",
       "    }\n",
       "\n",
       "    .dataframe thead th {\n",
       "        text-align: right;\n",
       "    }\n",
       "</style>\n",
       "<table border=\"1\" class=\"dataframe\">\n",
       "  <thead>\n",
       "    <tr style=\"text-align: right;\">\n",
       "      <th></th>\n",
       "      <th>Loja</th>\n",
       "      <th>Gerente</th>\n",
       "      <th>E-mail</th>\n",
       "    </tr>\n",
       "  </thead>\n",
       "  <tbody>\n",
       "    <tr>\n",
       "      <th>0</th>\n",
       "      <td>Iguatemi Esplanada</td>\n",
       "      <td>Helena</td>\n",
       "      <td>pythonimpressionador+helena@gmail.com</td>\n",
       "    </tr>\n",
       "    <tr>\n",
       "      <th>1</th>\n",
       "      <td>Shopping Midway Mall</td>\n",
       "      <td>Alice</td>\n",
       "      <td>pythonimpressionador+alice@gmail.com</td>\n",
       "    </tr>\n",
       "    <tr>\n",
       "      <th>2</th>\n",
       "      <td>Norte Shopping</td>\n",
       "      <td>Laura</td>\n",
       "      <td>pythonimpressionador+laura@gmail.com</td>\n",
       "    </tr>\n",
       "    <tr>\n",
       "      <th>3</th>\n",
       "      <td>Shopping Iguatemi Fortaleza</td>\n",
       "      <td>Manuela</td>\n",
       "      <td>pythonimpressionador+manuela@gmail.com</td>\n",
       "    </tr>\n",
       "    <tr>\n",
       "      <th>4</th>\n",
       "      <td>Shopping União de Osasco</td>\n",
       "      <td>Valentina</td>\n",
       "      <td>pythonimpressionador+valentina@gmail.com</td>\n",
       "    </tr>\n",
       "  </tbody>\n",
       "</table>\n",
       "</div>"
      ],
      "text/plain": [
       "                          Loja    Gerente  \\\n",
       "0           Iguatemi Esplanada     Helena   \n",
       "1         Shopping Midway Mall      Alice   \n",
       "2               Norte Shopping      Laura   \n",
       "3  Shopping Iguatemi Fortaleza    Manuela   \n",
       "4     Shopping União de Osasco  Valentina   \n",
       "\n",
       "                                     E-mail  \n",
       "0     pythonimpressionador+helena@gmail.com  \n",
       "1      pythonimpressionador+alice@gmail.com  \n",
       "2      pythonimpressionador+laura@gmail.com  \n",
       "3    pythonimpressionador+manuela@gmail.com  \n",
       "4  pythonimpressionador+valentina@gmail.com  "
      ]
     },
     "execution_count": 4,
     "metadata": {},
     "output_type": "execute_result"
    }
   ],
   "source": [
    "df_email.head()"
   ]
  },
  {
   "cell_type": "code",
   "execution_count": 5,
   "id": "28f68cba-ec14-4050-ad7a-7427c2d23675",
   "metadata": {},
   "outputs": [
    {
     "data": {
      "text/html": [
       "<div>\n",
       "<style scoped>\n",
       "    .dataframe tbody tr th:only-of-type {\n",
       "        vertical-align: middle;\n",
       "    }\n",
       "\n",
       "    .dataframe tbody tr th {\n",
       "        vertical-align: top;\n",
       "    }\n",
       "\n",
       "    .dataframe thead th {\n",
       "        text-align: right;\n",
       "    }\n",
       "</style>\n",
       "<table border=\"1\" class=\"dataframe\">\n",
       "  <thead>\n",
       "    <tr style=\"text-align: right;\">\n",
       "      <th></th>\n",
       "      <th>ID Loja</th>\n",
       "      <th>Loja</th>\n",
       "    </tr>\n",
       "  </thead>\n",
       "  <tbody>\n",
       "    <tr>\n",
       "      <th>0</th>\n",
       "      <td>1</td>\n",
       "      <td>Iguatemi Esplanada</td>\n",
       "    </tr>\n",
       "    <tr>\n",
       "      <th>1</th>\n",
       "      <td>2</td>\n",
       "      <td>Shopping Midway Mall</td>\n",
       "    </tr>\n",
       "    <tr>\n",
       "      <th>2</th>\n",
       "      <td>3</td>\n",
       "      <td>Norte Shopping</td>\n",
       "    </tr>\n",
       "    <tr>\n",
       "      <th>3</th>\n",
       "      <td>4</td>\n",
       "      <td>Shopping Iguatemi Fortaleza</td>\n",
       "    </tr>\n",
       "    <tr>\n",
       "      <th>4</th>\n",
       "      <td>5</td>\n",
       "      <td>Shopping União de Osasco</td>\n",
       "    </tr>\n",
       "  </tbody>\n",
       "</table>\n",
       "</div>"
      ],
      "text/plain": [
       "   ID Loja                         Loja\n",
       "0        1           Iguatemi Esplanada\n",
       "1        2         Shopping Midway Mall\n",
       "2        3               Norte Shopping\n",
       "3        4  Shopping Iguatemi Fortaleza\n",
       "4        5     Shopping União de Osasco"
      ]
     },
     "execution_count": 5,
     "metadata": {},
     "output_type": "execute_result"
    }
   ],
   "source": [
    "df_lojas.head()"
   ]
  },
  {
   "cell_type": "code",
   "execution_count": 6,
   "id": "9a169f36-220e-4962-b029-363e9773d2ed",
   "metadata": {},
   "outputs": [
    {
     "data": {
      "text/html": [
       "<div>\n",
       "<style scoped>\n",
       "    .dataframe tbody tr th:only-of-type {\n",
       "        vertical-align: middle;\n",
       "    }\n",
       "\n",
       "    .dataframe tbody tr th {\n",
       "        vertical-align: top;\n",
       "    }\n",
       "\n",
       "    .dataframe thead th {\n",
       "        text-align: right;\n",
       "    }\n",
       "</style>\n",
       "<table border=\"1\" class=\"dataframe\">\n",
       "  <thead>\n",
       "    <tr style=\"text-align: right;\">\n",
       "      <th></th>\n",
       "      <th>Código Venda</th>\n",
       "      <th>Data</th>\n",
       "      <th>ID Loja</th>\n",
       "      <th>Produto</th>\n",
       "      <th>Quantidade</th>\n",
       "      <th>Valor Unitário</th>\n",
       "      <th>Valor Final</th>\n",
       "    </tr>\n",
       "  </thead>\n",
       "  <tbody>\n",
       "    <tr>\n",
       "      <th>0</th>\n",
       "      <td>1</td>\n",
       "      <td>2019-01-01</td>\n",
       "      <td>1</td>\n",
       "      <td>Sapato Estampa</td>\n",
       "      <td>1</td>\n",
       "      <td>358</td>\n",
       "      <td>358</td>\n",
       "    </tr>\n",
       "    <tr>\n",
       "      <th>1</th>\n",
       "      <td>1</td>\n",
       "      <td>2019-01-01</td>\n",
       "      <td>1</td>\n",
       "      <td>Camiseta</td>\n",
       "      <td>2</td>\n",
       "      <td>180</td>\n",
       "      <td>360</td>\n",
       "    </tr>\n",
       "    <tr>\n",
       "      <th>2</th>\n",
       "      <td>1</td>\n",
       "      <td>2019-01-01</td>\n",
       "      <td>1</td>\n",
       "      <td>Sapato Xadrez</td>\n",
       "      <td>1</td>\n",
       "      <td>368</td>\n",
       "      <td>368</td>\n",
       "    </tr>\n",
       "    <tr>\n",
       "      <th>3</th>\n",
       "      <td>2</td>\n",
       "      <td>2019-01-02</td>\n",
       "      <td>3</td>\n",
       "      <td>Relógio</td>\n",
       "      <td>3</td>\n",
       "      <td>200</td>\n",
       "      <td>600</td>\n",
       "    </tr>\n",
       "    <tr>\n",
       "      <th>4</th>\n",
       "      <td>2</td>\n",
       "      <td>2019-01-02</td>\n",
       "      <td>3</td>\n",
       "      <td>Chinelo Liso</td>\n",
       "      <td>1</td>\n",
       "      <td>71</td>\n",
       "      <td>71</td>\n",
       "    </tr>\n",
       "  </tbody>\n",
       "</table>\n",
       "</div>"
      ],
      "text/plain": [
       "   Código Venda       Data  ID Loja         Produto  Quantidade  \\\n",
       "0             1 2019-01-01        1  Sapato Estampa           1   \n",
       "1             1 2019-01-01        1        Camiseta           2   \n",
       "2             1 2019-01-01        1   Sapato Xadrez           1   \n",
       "3             2 2019-01-02        3         Relógio           3   \n",
       "4             2 2019-01-02        3    Chinelo Liso           1   \n",
       "\n",
       "   Valor Unitário  Valor Final  \n",
       "0             358          358  \n",
       "1             180          360  \n",
       "2             368          368  \n",
       "3             200          600  \n",
       "4              71           71  "
      ]
     },
     "execution_count": 6,
     "metadata": {},
     "output_type": "execute_result"
    }
   ],
   "source": [
    "df_vendas.head()"
   ]
  },
  {
   "cell_type": "markdown",
   "id": "1d709a10-5d9e-42bd-8355-b030e7f18f84",
   "metadata": {},
   "source": [
    "## Passo 02: Criar uma tabela para cada loja"
   ]
  },
  {
   "cell_type": "code",
   "execution_count": 8,
   "id": "b3aac395-9eab-480f-b0c9-49e272657319",
   "metadata": {},
   "outputs": [
    {
     "data": {
      "text/html": [
       "<div>\n",
       "<style scoped>\n",
       "    .dataframe tbody tr th:only-of-type {\n",
       "        vertical-align: middle;\n",
       "    }\n",
       "\n",
       "    .dataframe tbody tr th {\n",
       "        vertical-align: top;\n",
       "    }\n",
       "\n",
       "    .dataframe thead th {\n",
       "        text-align: right;\n",
       "    }\n",
       "</style>\n",
       "<table border=\"1\" class=\"dataframe\">\n",
       "  <thead>\n",
       "    <tr style=\"text-align: right;\">\n",
       "      <th></th>\n",
       "      <th>Código Venda</th>\n",
       "      <th>Data</th>\n",
       "      <th>ID Loja</th>\n",
       "      <th>Produto</th>\n",
       "      <th>Quantidade</th>\n",
       "      <th>Valor Unitário</th>\n",
       "      <th>Valor Final</th>\n",
       "      <th>Loja</th>\n",
       "    </tr>\n",
       "  </thead>\n",
       "  <tbody>\n",
       "    <tr>\n",
       "      <th>0</th>\n",
       "      <td>1</td>\n",
       "      <td>2019-01-01</td>\n",
       "      <td>1</td>\n",
       "      <td>Sapato Estampa</td>\n",
       "      <td>1</td>\n",
       "      <td>358</td>\n",
       "      <td>358</td>\n",
       "      <td>Iguatemi Esplanada</td>\n",
       "    </tr>\n",
       "    <tr>\n",
       "      <th>1</th>\n",
       "      <td>1</td>\n",
       "      <td>2019-01-01</td>\n",
       "      <td>1</td>\n",
       "      <td>Camiseta</td>\n",
       "      <td>2</td>\n",
       "      <td>180</td>\n",
       "      <td>360</td>\n",
       "      <td>Iguatemi Esplanada</td>\n",
       "    </tr>\n",
       "    <tr>\n",
       "      <th>2</th>\n",
       "      <td>1</td>\n",
       "      <td>2019-01-01</td>\n",
       "      <td>1</td>\n",
       "      <td>Sapato Xadrez</td>\n",
       "      <td>1</td>\n",
       "      <td>368</td>\n",
       "      <td>368</td>\n",
       "      <td>Iguatemi Esplanada</td>\n",
       "    </tr>\n",
       "    <tr>\n",
       "      <th>3</th>\n",
       "      <td>2</td>\n",
       "      <td>2019-01-02</td>\n",
       "      <td>3</td>\n",
       "      <td>Relógio</td>\n",
       "      <td>3</td>\n",
       "      <td>200</td>\n",
       "      <td>600</td>\n",
       "      <td>Norte Shopping</td>\n",
       "    </tr>\n",
       "    <tr>\n",
       "      <th>4</th>\n",
       "      <td>2</td>\n",
       "      <td>2019-01-02</td>\n",
       "      <td>3</td>\n",
       "      <td>Chinelo Liso</td>\n",
       "      <td>1</td>\n",
       "      <td>71</td>\n",
       "      <td>71</td>\n",
       "      <td>Norte Shopping</td>\n",
       "    </tr>\n",
       "  </tbody>\n",
       "</table>\n",
       "</div>"
      ],
      "text/plain": [
       "   Código Venda       Data  ID Loja         Produto  Quantidade  \\\n",
       "0             1 2019-01-01        1  Sapato Estampa           1   \n",
       "1             1 2019-01-01        1        Camiseta           2   \n",
       "2             1 2019-01-01        1   Sapato Xadrez           1   \n",
       "3             2 2019-01-02        3         Relógio           3   \n",
       "4             2 2019-01-02        3    Chinelo Liso           1   \n",
       "\n",
       "   Valor Unitário  Valor Final                Loja  \n",
       "0             358          358  Iguatemi Esplanada  \n",
       "1             180          360  Iguatemi Esplanada  \n",
       "2             368          368  Iguatemi Esplanada  \n",
       "3             200          600      Norte Shopping  \n",
       "4              71           71      Norte Shopping  "
      ]
     },
     "execution_count": 8,
     "metadata": {},
     "output_type": "execute_result"
    }
   ],
   "source": [
    "df_vendas_full = df_vendas.merge(df_lojas, on='ID Loja', how='left')\n",
    "df_vendas_full.head()"
   ]
  },
  {
   "cell_type": "code",
   "execution_count": 9,
   "id": "a30073d7-dc16-4a0f-9d05-c94ec7b655ab",
   "metadata": {},
   "outputs": [],
   "source": [
    "dict_loja = {}\n",
    "for loja in df_lojas['Loja']:\n",
    "    dict_loja[loja] = df_vendas_full.loc[df_vendas_full['Loja'] == loja, :]"
   ]
  },
  {
   "cell_type": "markdown",
   "id": "d145b8b2-b7e1-4fbe-9603-a86bb13ae0af",
   "metadata": {},
   "source": [
    "### Passo 03: Definição do dia do indicador"
   ]
  },
  {
   "cell_type": "code",
   "execution_count": 11,
   "id": "5b2895d9-0c3a-4c47-b989-f183b732edc7",
   "metadata": {},
   "outputs": [
    {
     "data": {
      "text/plain": [
       "Timestamp('2019-12-26 00:00:00')"
      ]
     },
     "execution_count": 11,
     "metadata": {},
     "output_type": "execute_result"
    }
   ],
   "source": [
    "dia_indicador = df_vendas_full['Data'].max()\n",
    "dia_indicador"
   ]
  },
  {
   "cell_type": "markdown",
   "id": "680bf75b-0bd3-4860-a0b0-07bf784d3b8f",
   "metadata": {},
   "source": [
    "### Passo 04: Salvando os arquivos na pasta Backup\n"
   ]
  },
  {
   "cell_type": "code",
   "execution_count": 13,
   "id": "47fe222a-fd8d-4458-972b-a5b48aeae609",
   "metadata": {},
   "outputs": [
    {
     "name": "stdout",
     "output_type": "stream",
     "text": [
      "26_12_2019_Iguatemi Esplanada.xlsx\n",
      "26_12_2019_Shopping Midway Mall.xlsx\n",
      "26_12_2019_Norte Shopping.xlsx\n",
      "26_12_2019_Shopping Iguatemi Fortaleza.xlsx\n",
      "26_12_2019_Shopping União de Osasco.xlsx\n",
      "26_12_2019_Shopping Center Interlagos.xlsx\n",
      "26_12_2019_Rio Mar Recife.xlsx\n",
      "26_12_2019_Salvador Shopping.xlsx\n",
      "26_12_2019_Rio Mar Shopping Fortaleza.xlsx\n",
      "26_12_2019_Shopping Center Leste Aricanduva.xlsx\n",
      "26_12_2019_Ribeirão Shopping.xlsx\n",
      "26_12_2019_Shopping Morumbi.xlsx\n",
      "26_12_2019_Parque Dom Pedro Shopping.xlsx\n",
      "26_12_2019_Bourbon Shopping SP.xlsx\n",
      "26_12_2019_Palladium Shopping Curitiba.xlsx\n",
      "26_12_2019_Passei das Águas Shopping.xlsx\n",
      "26_12_2019_Center Shopping Uberlândia.xlsx\n",
      "26_12_2019_Shopping Recife.xlsx\n",
      "26_12_2019_Shopping Vila Velha.xlsx\n",
      "26_12_2019_Shopping SP Market.xlsx\n",
      "26_12_2019_Shopping Eldorado.xlsx\n",
      "26_12_2019_Shopping Ibirapuera.xlsx\n",
      "26_12_2019_Novo Shopping Ribeirão Preto.xlsx\n",
      "26_12_2019_Iguatemi Campinas.xlsx\n",
      "26_12_2019_Shopping Barra.xlsx\n"
     ]
    }
   ],
   "source": [
    "# Necessário importar a biblioteca Pathlib\n",
    "\n",
    "caminho = pathlib.Path(r'Backup_Lojas')\n",
    "\n",
    "arquivo_backup = caminho.iterdir()\n",
    "\n",
    "lista_nomes_backup = [arquivo.name for arquivo in arquivo_backup]\n",
    "\n",
    "for loja in dict_loja:\n",
    "    if loja not in lista_nomes_backup:\n",
    "        new_file = caminho / loja\n",
    "        new_file.mkdir()\n",
    "    nome_arquivo = '{}_{}_{}_{}.xlsx'.format(dia_indicador.day, dia_indicador.month,dia_indicador.year , loja)\n",
    "    print(nome_arquivo)\n",
    "    local_arquivo = caminho / loja / nome_arquivo\n",
    "\n",
    "    dict_loja[loja].to_excel(local_arquivo)\n"
   ]
  },
  {
   "cell_type": "markdown",
   "id": "1d98cd04-f942-4314-af40-3aa09bf20bf9",
   "metadata": {},
   "source": [
    "### Passo 05: Cálculo de indicadores"
   ]
  },
  {
   "cell_type": "code",
   "execution_count": 15,
   "id": "49584c3c-b227-4f78-93ea-a812a7e134ca",
   "metadata": {},
   "outputs": [
    {
     "name": "stdout",
     "output_type": "stream",
     "text": [
      "1711968\n",
      "21591\n"
     ]
    }
   ],
   "source": [
    "# Faturamento:\n",
    "loja1 = 'Norte Shopping'\n",
    "\n",
    "vendas_loja_ano = dict_loja[loja1]\n",
    "vendas_loja_dia = df_vendas_full.loc[df_vendas_full['Data'] == dia_indicador, :]\n",
    "\n",
    "# Ano\n",
    "faturamento_ano = vendas_loja_ano['Valor Final'].sum()\n",
    "print(faturamento_ano)\n",
    "\n",
    "#\n",
    "faturamento_dia = vendas_loja_dia['Valor Final'].sum()\n",
    "print(faturamento_dia)"
   ]
  },
  {
   "cell_type": "code",
   "execution_count": 16,
   "id": "1c5fa3f4-5695-4767-8bea-3ea2c7f63af3",
   "metadata": {},
   "outputs": [
    {
     "name": "stdout",
     "output_type": "stream",
     "text": [
      "120\n",
      "35\n"
     ]
    }
   ],
   "source": [
    "# Produtos\n",
    "\n",
    "# Ano\n",
    "qtde_produtos_ano = vendas_loja_ano['Produto'].unique()\n",
    "print(len(qtde_produtos_ano))\n",
    "\n",
    "# dia\n",
    "qtde_produtos_dia = vendas_loja_dia['Produto'].unique()\n",
    "print(len(qtde_produtos_dia))"
   ]
  },
  {
   "cell_type": "code",
   "execution_count": 17,
   "id": "86de604f-e240-4a97-aa9e-309f210e3832",
   "metadata": {},
   "outputs": [
    {
     "name": "stdout",
     "output_type": "stream",
     "text": [
      "Ticket médio ano: 784.59\n",
      "Ticket médio dia: 938.74\n"
     ]
    }
   ],
   "source": [
    "# Ticket\n",
    "# Precisamos considerar apenas os valores que vamos precisar para realizar os cálculos.\n",
    "\n",
    "col_num_ano = vendas_loja_ano.select_dtypes(include=[np.number]).columns\n",
    "vendas_ano = vendas_loja_ano.groupby('Código Venda')[col_num_ano].sum()\n",
    "tkt_medio_ano = vendas_ano['Valor Final'].mean()\n",
    "\n",
    "# Venda dia\n",
    "col_num_dia = vendas_loja_dia.select_dtypes(include=[np.number]).columns\n",
    "vendas_dia = vendas_loja_dia.groupby('Código Venda')[col_num_dia].sum()\n",
    "tkt_medio_dia = vendas_dia['Valor Final'].mean()\n",
    "\n",
    "print('Ticket médio ano: {:.2f}'.format(tkt_medio_ano))\n",
    "print('Ticket médio dia: {:.2f}'.format(tkt_medio_dia))"
   ]
  },
  {
   "cell_type": "code",
   "execution_count": 18,
   "id": "ea24d78c-edb6-4d7b-b4dd-0b5dde0495c3",
   "metadata": {},
   "outputs": [],
   "source": [
    "#definição de metas\n",
    "\n",
    "meta_faturamento_dia = 1000\n",
    "meta_faturamento_ano = 1650000\n",
    "meta_qtdeprodutos_dia = 4\n",
    "meta_qtdeprodutos_ano = 120\n",
    "meta_ticketmedio_dia = 500\n",
    "meta_ticketmedio_ano = 500"
   ]
  },
  {
   "cell_type": "markdown",
   "id": "2a88a1bf-6277-4075-a834-6de957f950af",
   "metadata": {},
   "source": [
    "### Passo 06: Envio de e-mail para gerentes"
   ]
  },
  {
   "cell_type": "code",
   "execution_count": 47,
   "id": "c398277a-d9ff-495c-9e67-efd32d110d03",
   "metadata": {},
   "outputs": [
    {
     "ename": "com_error",
     "evalue": "(-2147467260, 'Operação anulada', None, None)",
     "output_type": "error",
     "traceback": [
      "\u001b[1;31m---------------------------------------------------------------------------\u001b[0m",
      "\u001b[1;31mcom_error\u001b[0m                                 Traceback (most recent call last)",
      "Cell \u001b[1;32mIn[47], line 3\u001b[0m\n\u001b[0;32m      1\u001b[0m outlook \u001b[38;5;241m=\u001b[39m win32\u001b[38;5;241m.\u001b[39mDispatch(\u001b[38;5;124m'\u001b[39m\u001b[38;5;124moutlook.application\u001b[39m\u001b[38;5;124m'\u001b[39m)\n\u001b[1;32m----> 3\u001b[0m mail \u001b[38;5;241m=\u001b[39m outlook\u001b[38;5;241m.\u001b[39mCreateItem(\u001b[38;5;241m0\u001b[39m)\n\u001b[0;32m      4\u001b[0m mail\u001b[38;5;241m.\u001b[39mTo \u001b[38;5;241m=\u001b[39m df_email\u001b[38;5;241m.\u001b[39mloc[df_email[\u001b[38;5;124m'\u001b[39m\u001b[38;5;124mLoja\u001b[39m\u001b[38;5;124m'\u001b[39m]\u001b[38;5;241m==\u001b[39mloja1 , \u001b[38;5;124m'\u001b[39m\u001b[38;5;124mE-mail\u001b[39m\u001b[38;5;124m'\u001b[39m]\u001b[38;5;241m.\u001b[39mvalues[\u001b[38;5;241m0\u001b[39m]\n\u001b[0;32m      5\u001b[0m mail\u001b[38;5;241m.\u001b[39mCC \u001b[38;5;241m=\u001b[39m mail\u001b[38;5;241m.\u001b[39mBCC \u001b[38;5;241m=\u001b[39m \u001b[38;5;124m'\u001b[39m\u001b[38;5;124m'\u001b[39m\n",
      "File \u001b[1;32m<COMObject outlook.application>:2\u001b[0m, in \u001b[0;36mCreateItem\u001b[1;34m(self, ItemType)\u001b[0m\n",
      "\u001b[1;31mcom_error\u001b[0m: (-2147467260, 'Operação anulada', None, None)"
     ]
    }
   ],
   "source": [
    "outlook = win32.Dispatch('outlook.application')\n",
    "\n",
    "mail = outlook.CreateItem(0)\n",
    "mail.To = df_email.loc[df_email['Loja']==loja1 , 'E-mail'].values[0]\n",
    "mail.CC = mail.BCC = ''\n",
    "mail.Subject = ''\n",
    "mail.Body =''"
   ]
  },
  {
   "cell_type": "code",
   "execution_count": null,
   "id": "093fe7df-9e16-4792-a3e6-7c952dd45f4f",
   "metadata": {},
   "outputs": [],
   "source": [
    "print(emails.loc[df_email['Loja']==loja1 , 'E-mail'].values[0])"
   ]
  },
  {
   "cell_type": "code",
   "execution_count": 41,
   "id": "da29d5bf-b4b4-4b75-a984-9d9056826aac",
   "metadata": {},
   "outputs": [
    {
     "data": {
      "text/html": [
       "<div>\n",
       "<style scoped>\n",
       "    .dataframe tbody tr th:only-of-type {\n",
       "        vertical-align: middle;\n",
       "    }\n",
       "\n",
       "    .dataframe tbody tr th {\n",
       "        vertical-align: top;\n",
       "    }\n",
       "\n",
       "    .dataframe thead th {\n",
       "        text-align: right;\n",
       "    }\n",
       "</style>\n",
       "<table border=\"1\" class=\"dataframe\">\n",
       "  <thead>\n",
       "    <tr style=\"text-align: right;\">\n",
       "      <th></th>\n",
       "      <th>Loja</th>\n",
       "      <th>Gerente</th>\n",
       "      <th>E-mail</th>\n",
       "    </tr>\n",
       "  </thead>\n",
       "  <tbody>\n",
       "    <tr>\n",
       "      <th>0</th>\n",
       "      <td>Iguatemi Esplanada</td>\n",
       "      <td>Helena</td>\n",
       "      <td>pythonimpressionador+helena@gmail.com</td>\n",
       "    </tr>\n",
       "    <tr>\n",
       "      <th>1</th>\n",
       "      <td>Shopping Midway Mall</td>\n",
       "      <td>Alice</td>\n",
       "      <td>pythonimpressionador+alice@gmail.com</td>\n",
       "    </tr>\n",
       "    <tr>\n",
       "      <th>2</th>\n",
       "      <td>Norte Shopping</td>\n",
       "      <td>Laura</td>\n",
       "      <td>pythonimpressionador+laura@gmail.com</td>\n",
       "    </tr>\n",
       "    <tr>\n",
       "      <th>3</th>\n",
       "      <td>Shopping Iguatemi Fortaleza</td>\n",
       "      <td>Manuela</td>\n",
       "      <td>pythonimpressionador+manuela@gmail.com</td>\n",
       "    </tr>\n",
       "    <tr>\n",
       "      <th>4</th>\n",
       "      <td>Shopping União de Osasco</td>\n",
       "      <td>Valentina</td>\n",
       "      <td>pythonimpressionador+valentina@gmail.com</td>\n",
       "    </tr>\n",
       "  </tbody>\n",
       "</table>\n",
       "</div>"
      ],
      "text/plain": [
       "                          Loja    Gerente  \\\n",
       "0           Iguatemi Esplanada     Helena   \n",
       "1         Shopping Midway Mall      Alice   \n",
       "2               Norte Shopping      Laura   \n",
       "3  Shopping Iguatemi Fortaleza    Manuela   \n",
       "4     Shopping União de Osasco  Valentina   \n",
       "\n",
       "                                     E-mail  \n",
       "0     pythonimpressionador+helena@gmail.com  \n",
       "1      pythonimpressionador+alice@gmail.com  \n",
       "2      pythonimpressionador+laura@gmail.com  \n",
       "3    pythonimpressionador+manuela@gmail.com  \n",
       "4  pythonimpressionador+valentina@gmail.com  "
      ]
     },
     "execution_count": 41,
     "metadata": {},
     "output_type": "execute_result"
    }
   ],
   "source": [
    "df_email.head(5)"
   ]
  },
  {
   "cell_type": "code",
   "execution_count": null,
   "id": "f8cc6424-a7e5-4c5f-b6d9-98b6cd1076db",
   "metadata": {},
   "outputs": [],
   "source": []
  },
  {
   "cell_type": "code",
   "execution_count": null,
   "id": "b8027c6d-d062-469c-bc3c-487fd4726876",
   "metadata": {},
   "outputs": [],
   "source": []
  },
  {
   "cell_type": "code",
   "execution_count": null,
   "id": "af22359e-7156-45c1-bd78-ef4b16f5f42c",
   "metadata": {},
   "outputs": [],
   "source": []
  },
  {
   "cell_type": "code",
   "execution_count": null,
   "id": "2dd4df0e-3619-4573-9934-0196d5270b29",
   "metadata": {},
   "outputs": [],
   "source": []
  },
  {
   "cell_type": "code",
   "execution_count": null,
   "id": "9618be36-bf03-4d20-8c93-d8e59acc82a6",
   "metadata": {},
   "outputs": [],
   "source": []
  },
  {
   "cell_type": "code",
   "execution_count": null,
   "id": "9f835cda-7467-4bee-8dd6-ffe3b957bf27",
   "metadata": {},
   "outputs": [],
   "source": []
  },
  {
   "cell_type": "code",
   "execution_count": null,
   "id": "cdd29dfa-3088-4391-a03f-a361c68f2eb0",
   "metadata": {},
   "outputs": [],
   "source": []
  },
  {
   "cell_type": "code",
   "execution_count": null,
   "id": "86e598d8-0197-40cf-b36d-056d982a7611",
   "metadata": {},
   "outputs": [],
   "source": []
  },
  {
   "cell_type": "code",
   "execution_count": null,
   "id": "b50a1409-8851-4b39-bf1e-a2b9432b41b1",
   "metadata": {},
   "outputs": [],
   "source": []
  }
 ],
 "metadata": {
  "kernelspec": {
   "display_name": "Python [conda env:base] *",
   "language": "python",
   "name": "conda-base-py"
  },
  "language_info": {
   "codemirror_mode": {
    "name": "ipython",
    "version": 3
   },
   "file_extension": ".py",
   "mimetype": "text/x-python",
   "name": "python",
   "nbconvert_exporter": "python",
   "pygments_lexer": "ipython3",
   "version": "3.12.7"
  }
 },
 "nbformat": 4,
 "nbformat_minor": 5
}
